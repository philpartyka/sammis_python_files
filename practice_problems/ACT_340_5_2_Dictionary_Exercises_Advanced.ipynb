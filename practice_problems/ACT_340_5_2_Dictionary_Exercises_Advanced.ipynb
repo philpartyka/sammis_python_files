{
  "cells": [
    {
      "cell_type": "markdown",
      "metadata": {
        "id": "fxJ6r0UtCx8d"
      },
      "source": [
        "# Dictionary Practice Excercises- Advanced\n",
        "\n",
        "Complete the following practice excercises below to build up your skills with manipulating dictionaries.\n",
        "\n"
      ]
    },
    {
      "cell_type": "markdown",
      "metadata": {
        "id": "SPZ5wKD54OV8"
      },
      "source": [
        "**Problem 1**\n",
        "\n",
        "* Add the following key/value pair to the dictionary below.\n",
        "  \"oceans\": [\"Pacific\", \"Atlantic\", \"Indian\", \"Arctic\"] \n",
        "\n"
      ]
    },
    {
      "cell_type": "code",
      "execution_count": 6,
      "metadata": {
        "id": "su6Dtm2l7moD"
      },
      "outputs": [
        {
          "name": "stdout",
          "output_type": "stream",
          "text": [
            "{'continets': ['Pacific', 'Atlantic', 'Indian', 'Arctic']}\n"
          ]
        }
      ],
      "source": [
        "geography= {\"continets\": [\"North America\", \"South America\", \"Africa\", \"Antarctica\", \"Australia\", \"Asia\", \"Europe\"]}\n",
        "\n",
        "\n",
        "\n",
        "#geography[\"oceans\"] = [\"Pacific\", \"Atlantic\", \"Indian\", \"Arctic\"]\n",
        "\n",
        "\n",
        "geography.update({\"continets\": [\"Pacific\", \"Atlantic\", \"Indian\", \"Arctic\"]})\n",
        "print(geography)"
      ]
    },
    {
      "cell_type": "markdown",
      "metadata": {
        "id": "lE7F2U9L75_T"
      },
      "source": [
        "**Problem 2**\n",
        "\n",
        "\n",
        "\n",
        "*   Use the Dictionary below\n",
        "*   Change the value for the height key to 72 inches\n",
        "\n"
      ]
    },
    {
      "cell_type": "code",
      "execution_count": 7,
      "metadata": {
        "id": "Dne-3hDU8lSA"
      },
      "outputs": [
        {
          "name": "stdout",
          "output_type": "stream",
          "text": [
            "{'name': 'John Doe', 'age': 25, 'height': 72, 'symptoms': 'cough'}\n"
          ]
        }
      ],
      "source": [
        "patient= {\"name\": \"John Doe\", \"age\": 25, \"height\": 64, \"symptoms\": \"cough\" }\n",
        "patient[\"height\"] = 72\n",
        "print(patient)"
      ]
    },
    {
      "cell_type": "markdown",
      "metadata": {
        "id": "iRqGQjLZ9aDq"
      },
      "source": [
        "**Problem 3**\n",
        "\n",
        "*   Use the same dictionary as above\n",
        "*   Use a Class method to generate a list of tuples that consists of each key:value pair\n",
        "\n"
      ]
    },
    {
      "cell_type": "code",
      "execution_count": 20,
      "metadata": {
        "id": "ej-LPcQw9tlH"
      },
      "outputs": [
        {
          "ename": "TypeError",
          "evalue": "'list' object is not callable",
          "output_type": "error",
          "traceback": [
            "\u001b[1;31m---------------------------------------------------------------------------\u001b[0m",
            "\u001b[1;31mTypeError\u001b[0m                                 Traceback (most recent call last)",
            "Cell \u001b[1;32mIn[20], line 1\u001b[0m\n\u001b[1;32m----> 1\u001b[0m \u001b[39mprint\u001b[39m(\u001b[39mlist\u001b[39;49m(patient\u001b[39m.\u001b[39;49mitems()))\n",
            "\u001b[1;31mTypeError\u001b[0m: 'list' object is not callable"
          ]
        }
      ],
      "source": [
        "print(list(patient.items()))"
      ]
    },
    {
      "cell_type": "markdown",
      "metadata": {
        "id": "30gd_UKX9xRj"
      },
      "source": [
        "**Problem 4**\n",
        "\n",
        "\n",
        "\n",
        "*   Use the same dictionary as above\n",
        "*   Use a Class method to print the value of \"name'\n",
        "\n"
      ]
    },
    {
      "cell_type": "code",
      "execution_count": 9,
      "metadata": {
        "id": "jtVXJwpp-E2D"
      },
      "outputs": [
        {
          "name": "stdout",
          "output_type": "stream",
          "text": [
            "John Doe\n"
          ]
        }
      ],
      "source": [
        "print(patient.get('name'))"
      ]
    },
    {
      "cell_type": "markdown",
      "metadata": {
        "id": "xEHhz1kf-Fcl"
      },
      "source": [
        "**Problem 5**\n",
        "\n",
        "\n",
        "\n",
        "*   Use the same dictionary as above\n",
        "*   Use a Class method to look for the key \"weight\", and supply a default arguement of 150 if the value is not found\n",
        "\n"
      ]
    },
    {
      "cell_type": "code",
      "execution_count": 10,
      "metadata": {
        "id": "lds025UR-jpK"
      },
      "outputs": [
        {
          "name": "stdout",
          "output_type": "stream",
          "text": [
            "150\n"
          ]
        }
      ],
      "source": [
        "print(patient.get('weight', 150))"
      ]
    },
    {
      "cell_type": "markdown",
      "metadata": {
        "id": "AdApgIMi-moT"
      },
      "source": [
        "**Problem 6**\n",
        "\n",
        "\n",
        "*   Use the same dictionary as above\n",
        "*   Use a Class method to remove everything from the dictionary\n",
        "\n",
        "\n"
      ]
    },
    {
      "cell_type": "code",
      "execution_count": 14,
      "metadata": {
        "id": "a7YXxpV7_O1F"
      },
      "outputs": [
        {
          "name": "stdout",
          "output_type": "stream",
          "text": [
            "{}\n"
          ]
        }
      ],
      "source": [
        "patient.clear()\n",
        "print(patient)"
      ]
    },
    {
      "cell_type": "markdown",
      "metadata": {
        "id": "9ApUQ9qn_P01"
      },
      "source": [
        "**Problem 7**\n",
        "\n",
        "\n",
        "\n",
        "*   Use the dictionary below\n",
        "*   Use a for loop to move through the dictionary.\n",
        "*   If the value is above 2000, add the value to a new list minus 500\n",
        "*   Example: If the value is 2500, 2000 would be added to the new list\n",
        "\n"
      ]
    },
    {
      "cell_type": "code",
      "execution_count": 17,
      "metadata": {
        "id": "045nPKTs_6qg"
      },
      "outputs": [
        {
          "name": "stdout",
          "output_type": "stream",
          "text": [
            "[2700, 51500]\n"
          ]
        }
      ],
      "source": [
        "stock_qty= {\"cookies\": 3200, \"bread\": 500, \"crackers\": 52000, \"chips\": 2000}\n",
        "\n",
        "newlist = [qty -500 for qty in stock_qty.values() if qty > 2000]\n",
        "'''\n",
        "for qty in stock_qty.values():\n",
        "    if qty > 2000:\n",
        "        newlist += [qty-500]\n",
        "\n",
        "'''\n",
        "print(newlist)"
      ]
    },
    {
      "cell_type": "markdown",
      "metadata": {
        "id": "3TcqNBOGBGTP"
      },
      "source": [
        "**Problem 8 **\n",
        "\n",
        "\n",
        "*   Use the list I did below\n",
        "*   Loop through the list\n",
        "*   Create a dictionary to keep track of how many times a number appears in a list\n",
        "*   Print the final dictionary\n",
        "\n",
        "*   Things to consider:\n",
        "\n",
        ">* How to check if an integer already exists in the new dictionary\n",
        ">* What is the first value when the key gets added to the dictionary?\n",
        ">* How to increase the value of each key on each iteration of the loop?\n",
        "\n",
        "\n",
        "\n"
      ]
    },
    {
      "cell_type": "code",
      "execution_count": 9,
      "metadata": {
        "id": "mfgV0KeYCOuO"
      },
      "outputs": [
        {
          "name": "stdout",
          "output_type": "stream",
          "text": [
            "{10: 2, 9: 3, 88: 1, 20: 2, 22: 1, 101: 1, 68: 1, 108: 1, 33: 1, 53: 1}\n"
          ]
        }
      ],
      "source": [
        "list_num= [10, 9, 88, 20, 9, 20, 22, 101, 68, 10, 108, 33, 9, 53]\n",
        "d_nums.clear()\n",
        "#something = [(num, count) for num in list_num if  ]\n",
        "#d_nums = {}\n",
        "for num in list_num:\n",
        "    d_nums[num] = d_nums.get(num, 0) + 1\n",
        "\n",
        "print(d_nums)\n"
      ]
    }
  ],
  "metadata": {
    "colab": {
      "provenance": []
    },
    "kernelspec": {
      "display_name": "Python 3",
      "name": "python3"
    },
    "language_info": {
      "codemirror_mode": {
        "name": "ipython",
        "version": 3
      },
      "file_extension": ".py",
      "mimetype": "text/x-python",
      "name": "python",
      "nbconvert_exporter": "python",
      "pygments_lexer": "ipython3",
      "version": "3.10.7"
    }
  },
  "nbformat": 4,
  "nbformat_minor": 0
}
