{
  "cells": [
    {
      "cell_type": "markdown",
      "metadata": {
        "id": "qK41rEENgA65"
      },
      "source": [
        "# List Excercises- Advanced\n",
        "\n",
        "Complete the following practice excercises below to build up your skills with manipulating lists."
      ]
    },
    {
      "cell_type": "markdown",
      "metadata": {
        "id": "Q2j3l_wyf-UH"
      },
      "source": [
        "**Problem 1**\n",
        "\n",
        "\n",
        "\n",
        "*   Using the list below, use a Class method to add the string \"skirt\" to the end of the list.\n",
        "\n"
      ]
    },
    {
      "cell_type": "code",
      "execution_count": 1,
      "metadata": {
        "id": "hbDcD9R0fiJd"
      },
      "outputs": [
        {
          "name": "stdout",
          "output_type": "stream",
          "text": [
            "['socks', 'pants', 'shirt', 'polo', 'skirt']\n"
          ]
        }
      ],
      "source": [
        "clothing= ['socks', 'pants', 'shirt', 'polo']\n",
        "clothing.append('skirt')\n",
        "print(clothing)"
      ]
    },
    {
      "cell_type": "markdown",
      "metadata": {
        "id": "y356o0Fjf5F_"
      },
      "source": [
        "**Problem 2**\n",
        "\n",
        "\n",
        "\n",
        "*   Using the same list as above, add a list to the 2nd index that includes the following strings:\n",
        "> 'suit jacket', 'suit pants', 'tie', 'button down'\n",
        "\n",
        "\n",
        "\n"
      ]
    },
    {
      "cell_type": "code",
      "execution_count": 2,
      "metadata": {
        "id": "nWyQ5oVmghJz"
      },
      "outputs": [
        {
          "name": "stdout",
          "output_type": "stream",
          "text": [
            "['socks', 'pants', ['suit jacket', 'suit pants', 'tie', 'button down'], 'shirt', 'polo', 'skirt']\n"
          ]
        }
      ],
      "source": [
        "clothing.insert(2, ['suit jacket', 'suit pants', 'tie', 'button down'])\n",
        "print(clothing)"
      ]
    },
    {
      "cell_type": "markdown",
      "metadata": {
        "id": "ibOLVpd9ghnV"
      },
      "source": [
        "**Problem 3**\n",
        "\n",
        "\n",
        "\n",
        "*   Use the list below and use a Class method to get the total number of times the integer 14 appears in the list.\n",
        "\n"
      ]
    },
    {
      "cell_type": "code",
      "execution_count": 38,
      "metadata": {
        "id": "uew5D-NjgzGu"
      },
      "outputs": [
        {
          "name": "stdout",
          "output_type": "stream",
          "text": [
            "4\n"
          ]
        }
      ],
      "source": [
        "nums= [2, 150, 14, 36, 78, 81, 14, 1000, 54, 14, 14]\n",
        "print(nums.count(14))"
      ]
    },
    {
      "cell_type": "markdown",
      "metadata": {
        "id": "06UCPuTZhCfh"
      },
      "source": [
        "**Problem 4**\n",
        "\n",
        "\n",
        "*  Use the same list as above\n",
        "*  Use a built-in function to find the total of all the numbers in the list.\n",
        "\n"
      ]
    },
    {
      "cell_type": "code",
      "execution_count": 2,
      "metadata": {
        "id": "uvbtynLshN7h"
      },
      "outputs": [
        {
          "name": "stdout",
          "output_type": "stream",
          "text": [
            "1457\n"
          ]
        }
      ],
      "source": [
        "print(sum(nums))"
      ]
    },
    {
      "cell_type": "markdown",
      "metadata": {
        "id": "2y7Vph1ThSqQ"
      },
      "source": [
        "**Problem 5**\n",
        "\n",
        "\n",
        "\n",
        "*   Use the same list as above\n",
        "*   Slice the list so that it is reversed without using the .reverse() method\n",
        "\n"
      ]
    },
    {
      "cell_type": "code",
      "execution_count": 3,
      "metadata": {
        "id": "jFRwVKvyh6ip"
      },
      "outputs": [
        {
          "name": "stdout",
          "output_type": "stream",
          "text": [
            "[14, 14, 54, 1000, 14, 81, 78, 36, 14, 150, 2]\n"
          ]
        }
      ],
      "source": [
        "print(nums[::-1])"
      ]
    },
    {
      "cell_type": "markdown",
      "metadata": {
        "id": "UV5mw3sXh7AL"
      },
      "source": [
        "**Problem 6**\n",
        "\n",
        "\n",
        "\n",
        "*   Use the list below.\n",
        "*   Slice the list so only the last two elements are included in the slice.\n",
        "\n"
      ]
    },
    {
      "cell_type": "code",
      "execution_count": 5,
      "metadata": {
        "id": "1gj4O32HiLg7"
      },
      "outputs": [
        {
          "name": "stdout",
          "output_type": "stream",
          "text": [
            "[4, 5]\n"
          ]
        }
      ],
      "source": [
        "one_to_five= [1, 2, 3, 4, 5]\n",
        "print(one_to_five[3:])"
      ]
    },
    {
      "cell_type": "markdown",
      "metadata": {
        "id": "eO_HnwfUic9F"
      },
      "source": [
        "**Problem 7**\n",
        "\n",
        "*   Use the list below\n",
        "*   Write a for loop so that every item in the list is printed\n",
        "\n"
      ]
    },
    {
      "cell_type": "code",
      "execution_count": 6,
      "metadata": {
        "id": "oJdo3DfcisLP"
      },
      "outputs": [
        {
          "name": "stdout",
          "output_type": "stream",
          "text": [
            "koala\n",
            "cat\n",
            "fox\n",
            "panda\n",
            "chipmunk\n",
            "sloth\n"
          ]
        }
      ],
      "source": [
        "animals= [\"koala\", \"cat\", \"fox\", \"panda\", \"chipmunk\", \"sloth\"]\n",
        "\n",
        "for animal in animals:\n",
        "    print(animal)"
      ]
    },
    {
      "cell_type": "markdown",
      "metadata": {
        "id": "gmEVvlB5jG7m"
      },
      "source": [
        "**Problem 8**\n",
        "\n",
        "\n",
        "\n",
        "* Use the list below\n",
        "* Create a function that accepts a list as an argument\n",
        "*   Check if the data type at each index is a list\n",
        "*   If it is a list, check the length of the list. If it is greater than 3, add the second element to a new list.\n",
        "*   Return the new list\n",
        "\n",
        "\n",
        "\n",
        "\n",
        "\n"
      ]
    },
    {
      "cell_type": "code",
      "execution_count": 20,
      "metadata": {
        "id": "RDlz_hkCj08s"
      },
      "outputs": [
        {
          "name": "stdout",
          "output_type": "stream",
          "text": [
            "['you', 'win']\n"
          ]
        }
      ],
      "source": [
        "random_things= ['hello', ['breakfast', 'you', 'pencil', 2], 22, ['burrito', 'taco'],\n",
        "                [22, 'win', 33, [5], 'laptop']]\n",
        "\n",
        "def function(safe_list):\n",
        "    '''\n",
        "    new_list = []\n",
        "    for i in safe_list:\n",
        "        if isinstance(i, list):\n",
        "           if len(i) > 3:\n",
        "               # new_list += [i[1]]\n",
        "               break\n",
        "    '''\n",
        "\n",
        "    return [i[1] for i in safe_list if isinstance(i, list) if len(i) > 3]\n",
        "        \n",
        "print(function(random_things))"
      ]
    },
    {
      "cell_type": "markdown",
      "metadata": {
        "id": "WdAG983lk4yc"
      },
      "source": [
        "**Problem 9**\n",
        "\n",
        "\n",
        "\n",
        "*   Use the list below\n",
        "*   Create a new list\n",
        "*   Use a for loop and the append() method to append each item with a Dr. prefix to the new list.\n",
        "\n",
        "\n",
        "\n",
        "\n"
      ]
    },
    {
      "cell_type": "code",
      "execution_count": 23,
      "metadata": {
        "id": "jRp_K6kOlTDx"
      },
      "outputs": [
        {
          "name": "stdout",
          "output_type": "stream",
          "text": [
            "['Dr. Dre', 'Dr. Seuss', 'Dr. Who', 'Dr. McCoy']\n"
          ]
        }
      ],
      "source": [
        "names= ['Dre', 'Seuss', 'Who', 'McCoy']\n",
        "doctors = [\"Dr. \" + i for i in names]\n",
        "\n",
        "#for doctor in names:\n",
        "    #doctors.append(\"Dr. \" + doctor)\n",
        "\n",
        "print(doctors)\n",
        "\n"
      ]
    },
    {
      "cell_type": "markdown",
      "metadata": {
        "id": "aHfC8mXulwEl"
      },
      "source": [
        "**Problem 10**\n",
        "\n",
        "\n",
        "\n",
        "*   Use the list below\n",
        "*   Use a while loop, iterate through the list and if there is an integer 100, print a message that says what index the 100 is at\n",
        "*   Example: \"There is a 100 at index no: 5\"\n",
        "\n",
        "\n",
        "\n",
        "\n",
        "\n"
      ]
    },
    {
      "cell_type": "code",
      "execution_count": 3,
      "metadata": {
        "id": "psW443glmlVe"
      },
      "outputs": [
        {
          "name": "stdout",
          "output_type": "stream",
          "text": [
            "There is a 100 at index no:  7\n"
          ]
        }
      ],
      "source": [
        "num2= [10, 99, 85, 76, 43, 2, 77, 100, 13, 12, 42, 99, -1, -100]\n",
        "\n",
        "i = 0\n",
        "while i <= len(num2):\n",
        "    if num2[i] == 100:\n",
        "        print('There is a 100 at index no: ', i)\n",
        "        break\n",
        "    i += 1"
      ]
    },
    {
      "cell_type": "markdown",
      "metadata": {
        "id": "zV4_y6n8mzL9"
      },
      "source": [
        "**Problem 11**\n",
        "\n",
        "\n",
        "\n",
        "\n",
        "*   Use the list below\n",
        "*   Create a new list\n",
        "*   Use a for loop or a whole loop to iterate through the list and append all the elements in the old list, to the new list UNLESS the element is an empty string\n",
        "\n",
        "\n"
      ]
    },
    {
      "cell_type": "code",
      "execution_count": 8,
      "metadata": {
        "id": "vCGbxhKXnKjM"
      },
      "outputs": [
        {
          "name": "stdout",
          "output_type": "stream",
          "text": [
            "[\"McDonald's\", \"Wendy's\", 'Burger King', 'Taco Bell']\n"
          ]
        }
      ],
      "source": [
        "list1= [\"McDonald's\", \"Wendy's\", \"       \", \"Burger King\", \"\", \"Taco Bell\"]\n",
        "newlist = [x for x in list1 if len(list1[list1.index(x)].strip()) > 1]\n",
        "print(newlist)"
      ]
    },
    {
      "cell_type": "markdown",
      "metadata": {
        "id": "yPurohASnUVy"
      },
      "source": []
    }
  ],
  "metadata": {
    "colab": {
      "provenance": []
    },
    "kernelspec": {
      "display_name": "Python 3",
      "name": "python3"
    },
    "language_info": {
      "codemirror_mode": {
        "name": "ipython",
        "version": 3
      },
      "file_extension": ".py",
      "mimetype": "text/x-python",
      "name": "python",
      "nbconvert_exporter": "python",
      "pygments_lexer": "ipython3",
      "version": "3.10.7"
    }
  },
  "nbformat": 4,
  "nbformat_minor": 0
}
