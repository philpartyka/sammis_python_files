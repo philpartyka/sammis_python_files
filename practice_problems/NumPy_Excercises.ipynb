{
  "cells": [
    {
      "cell_type": "markdown",
      "metadata": {
        "id": "ZINQrww1EboC"
      },
      "source": [
        "**Problem 1**\n",
        "\n",
        "Import Numpy as np"
      ]
    },
    {
      "cell_type": "code",
      "execution_count": 1,
      "metadata": {
        "id": "hOtevzjWrR-R"
      },
      "outputs": [],
      "source": [
        "import numpy as np\n"
      ]
    },
    {
      "cell_type": "markdown",
      "metadata": {
        "id": "K57VSkdZOhlC"
      },
      "source": [
        "**Problem 2**\n",
        "\n",
        "Create a 1D array of numbers from 0 to 9."
      ]
    },
    {
      "cell_type": "code",
      "execution_count": 38,
      "metadata": {
        "id": "EBKnp8nDOpq2"
      },
      "outputs": [
        {
          "name": "stdout",
          "output_type": "stream",
          "text": [
            "[0 1 2 3 4 5 6 7 8 9]\n"
          ]
        }
      ],
      "source": [
        "array1 = np.array([0, 1, 2, 3, 4, 5, 6, 7, 8, 9])\n",
        "print(array1)"
      ]
    },
    {
      "cell_type": "markdown",
      "metadata": {
        "id": "DpYFqU4XOwDO"
      },
      "source": [
        "**Problem 3**\n",
        "\n",
        "Create a 3×3 numpy array of all True’s."
      ]
    },
    {
      "cell_type": "code",
      "execution_count": 44,
      "metadata": {
        "id": "40dFQCLAO-fT"
      },
      "outputs": [
        {
          "name": "stdout",
          "output_type": "stream",
          "text": [
            "[[ True  True  True]\n",
            " [ True  True  True]\n",
            " [ True  True  True]]\n",
            "[[True, True, True], [True, True, True], [True, True, True]]\n",
            "[[ True  True  True]\n",
            " [ True  True  True]\n",
            " [ True  True  True]]\n",
            "[[ True  True  True]\n",
            " [ True  True  True]\n",
            " [ True  True  True]]\n"
          ]
        }
      ],
      "source": [
        "all_true_array = np.array([[True, True, True], [True, True, True], [True, True, True]])\n",
        "print(all_true_array)\n",
        "\n",
        "arr = [True] * 3\n",
        "arr = [arr] * 3\n",
        "print(arr)\n",
        "\n",
        "array2= np.ones((3,3), dtype=bool)\n",
        "print(array2)\n",
        "\n",
        "array_true=np.full([3,3],True)\n",
        "print(array_true)"
      ]
    },
    {
      "cell_type": "markdown",
      "metadata": {
        "id": "r8xDn0etO_Hn"
      },
      "source": [
        "**Problem 4**\n",
        "\n",
        "Extract all odd numbers from arr."
      ]
    },
    {
      "cell_type": "code",
      "execution_count": 45,
      "metadata": {
        "id": "_FeV7PzjPIJ7"
      },
      "outputs": [
        {
          "name": "stdout",
          "output_type": "stream",
          "text": [
            "[1 3 5 7 9]\n",
            "[1 3 5 7 9]\n"
          ]
        }
      ],
      "source": [
        "arr = np.array([0, 1, 2, 3, 4, 5, 6, 7, 8, 9])\n",
        "print(arr[1::2])\n",
        "\n",
        "mask = arr%2 != 0\n",
        "b = arr[mask]\n",
        "print(b)"
      ]
    },
    {
      "cell_type": "markdown",
      "metadata": {
        "id": "PMDxdKKvPaQy"
      },
      "source": [
        "**Problem 5**\n",
        "\n",
        "Replace all odd numbers in arr with -1."
      ]
    },
    {
      "cell_type": "code",
      "execution_count": 47,
      "metadata": {
        "id": "utoQqbgNPj72"
      },
      "outputs": [
        {
          "name": "stdout",
          "output_type": "stream",
          "text": [
            "[-1 -1 -1 -1 -1]\n",
            "[ 0 -1  2 -1  4 -1  6 -1  8 -1]\n"
          ]
        }
      ],
      "source": [
        "arr = np.array([0, 1, 2, 3, 4, 5, 6, 7, 8, 9])\n",
        "arr[1::2] = -1\n",
        "print(arr[1::2])\n",
        "\n",
        "arr[arr %2 == 1] = -1\n",
        "print(arr)"
      ]
    },
    {
      "cell_type": "markdown",
      "metadata": {
        "id": "KXZ1Hw1WP0fk"
      },
      "source": [
        "**Problem 6**\n",
        "\n",
        "Convert a 1D array to a 2D array with 2 rows."
      ]
    },
    {
      "cell_type": "code",
      "execution_count": 13,
      "metadata": {
        "id": "9Vgx6sjTP8kj"
      },
      "outputs": [
        {
          "name": "stdout",
          "output_type": "stream",
          "text": [
            "[[0 1 2 3 4]\n",
            " [5 6 7 8 9]]\n"
          ]
        }
      ],
      "source": [
        "print(np.arange(10).reshape(2,5))\n"
      ]
    },
    {
      "cell_type": "markdown",
      "metadata": {
        "id": "oeZS60tuQB-L"
      },
      "source": [
        "**Problem 7** \n",
        "\n",
        "Stack arrays a and b vertically."
      ]
    },
    {
      "cell_type": "code",
      "execution_count": 24,
      "metadata": {
        "id": "xdIpealnQFnN"
      },
      "outputs": [
        {
          "name": "stdout",
          "output_type": "stream",
          "text": [
            "[[0 1]\n",
            " [2 3]\n",
            " [4 5]\n",
            " [6 7]\n",
            " [8 9]]\n",
            "[[1 1]\n",
            " [1 1]\n",
            " [1 1]\n",
            " [1 1]\n",
            " [1 1]]\n"
          ]
        }
      ],
      "source": [
        "a = np.arange(10).reshape(5,-1)\n",
        "b = np.repeat(1, 10).reshape(5,2)\n",
        "print(a)\n",
        "print(b)"
      ]
    },
    {
      "cell_type": "markdown",
      "metadata": {
        "id": "zK-hXr8TQcfr"
      },
      "source": [
        "**Problem 8**\n",
        "\n",
        "Stack the arrays a and b horizontally."
      ]
    },
    {
      "cell_type": "code",
      "execution_count": 27,
      "metadata": {
        "id": "ZNxJNgcyQg7T"
      },
      "outputs": [
        {
          "name": "stdout",
          "output_type": "stream",
          "text": [
            "[[0 1 2 3 4 5 6 7 8 9]]\n",
            "[[1 1 1 1 1 1 1 1 1 1]]\n"
          ]
        }
      ],
      "source": [
        "print(a.reshape(-1, 10))\n",
        "print(b.reshape(-1, 10))"
      ]
    },
    {
      "cell_type": "markdown",
      "metadata": {
        "id": "tUcrp_8tQwra"
      },
      "source": [
        "**Problem 9**\n",
        "\n",
        "Get the common items between a and b."
      ]
    },
    {
      "cell_type": "code",
      "execution_count": 49,
      "metadata": {
        "id": "H-HeXTDAQ-Ia"
      },
      "outputs": [
        {
          "name": "stdout",
          "output_type": "stream",
          "text": [
            "[2 4]\n",
            "[[1 2 3 2 3 4 3 4 5 6]]\n"
          ]
        }
      ],
      "source": [
        "a = np.array([1,2,3,2,3,4,3,4,5,6])\n",
        "b = np.array([7,2,10,2,7,4,9,4,9,8])\n",
        "print(np.intersect1d(a,b))"
      ]
    },
    {
      "cell_type": "markdown",
      "metadata": {
        "id": "QJZuspVHREN2"
      },
      "source": [
        "**Problem 10**\n",
        "\n",
        "From array a remove all items present in array b"
      ]
    },
    {
      "cell_type": "code",
      "execution_count": 35,
      "metadata": {
        "id": "Si34slDHRI3Z"
      },
      "outputs": [
        {
          "name": "stdout",
          "output_type": "stream",
          "text": [
            "[1 2 3 4]\n"
          ]
        }
      ],
      "source": [
        "a = np.array([1,2,3,4,5])\n",
        "b = np.array([5,6,7,8,9])\n",
        "a = np.setdiff1d(a, b)\n",
        "print(a)"
      ]
    },
    {
      "cell_type": "markdown",
      "metadata": {
        "id": "Kds0TCX9RP17"
      },
      "source": [
        "**Problem 11**\n",
        "\n",
        "Get the positions where elements of a and b match"
      ]
    },
    {
      "cell_type": "code",
      "execution_count": 36,
      "metadata": {
        "id": "IfHkCtxBRToJ"
      },
      "outputs": [
        {
          "name": "stdout",
          "output_type": "stream",
          "text": [
            "(array([1, 3, 5, 7], dtype=int64),)\n"
          ]
        }
      ],
      "source": [
        "a = np.array([1,2,3,2,3,4,3,4,5,6])\n",
        "b = np.array([7,2,10,2,7,4,9,4,9,8])\n",
        "print(np.where(a == b))"
      ]
    },
    {
      "cell_type": "markdown",
      "metadata": {
        "id": "XfB9DvvwRbhI"
      },
      "source": [
        "**Problem 12** \n",
        "\n",
        "Get all items between 5 and 10 from a."
      ]
    },
    {
      "cell_type": "code",
      "execution_count": 86,
      "metadata": {
        "id": "QTVXeUUHRkJW"
      },
      "outputs": [
        {
          "name": "stdout",
          "output_type": "stream",
          "text": [
            "[6 9]\n",
            "[6 9]\n"
          ]
        }
      ],
      "source": [
        "a = np.array([2, 6, 1, 9, 10, 3, 27])\n",
        "b = a[a<10]\n",
        "print(b[5<b])\n",
        "print(a[np.logical_and(a>5 , a<10)])"
      ]
    },
    {
      "cell_type": "markdown",
      "metadata": {
        "id": "KfcEtysHRoPx"
      },
      "source": [
        "**Problem 13**\n",
        "\n",
        "Swap columns 1 and 2 in the array arr."
      ]
    },
    {
      "cell_type": "code",
      "execution_count": 66,
      "metadata": {
        "id": "fo33bz2ARx0b"
      },
      "outputs": [
        {
          "name": "stdout",
          "output_type": "stream",
          "text": [
            "[[0 1 2]\n",
            " [3 4 5]\n",
            " [6 7 8]]\n",
            "[[1 0 2]\n",
            " [4 3 5]\n",
            " [7 6 8]]\n"
          ]
        }
      ],
      "source": [
        "arr = np.arange(9).reshape(3,3)\n",
        "print(arr)\n",
        "arr[:, [0,1]] = arr[:, [1,0]]\n",
        "print(arr)"
      ]
    },
    {
      "cell_type": "markdown",
      "metadata": {
        "id": "e5qFi-P_R18E"
      },
      "source": [
        "**Problem 14**\n",
        "\n",
        "Swap rows 1 and 2 in the array arr."
      ]
    },
    {
      "cell_type": "code",
      "execution_count": 72,
      "metadata": {
        "id": "ieV5B7zYR6KQ"
      },
      "outputs": [
        {
          "name": "stdout",
          "output_type": "stream",
          "text": [
            "[[0 1 2]\n",
            " [3 4 5]\n",
            " [6 7 8]]\n",
            "[[3 4 5]\n",
            " [0 1 2]\n",
            " [6 7 8]]\n"
          ]
        }
      ],
      "source": [
        "arr = np.arange(9).reshape(3,3)\n",
        "print(arr)\n",
        "arr[[0,1]] = arr[[1,0]]\n",
        "print(arr)"
      ]
    },
    {
      "cell_type": "markdown",
      "metadata": {
        "id": "ZIY9it8hSArU"
      },
      "source": [
        "**Problem 15**\n",
        "\n",
        "Reverse the rows of a 2D array arr."
      ]
    },
    {
      "cell_type": "code",
      "execution_count": 95,
      "metadata": {
        "id": "hOmvemu-SEsS"
      },
      "outputs": [
        {
          "name": "stdout",
          "output_type": "stream",
          "text": [
            "[[0 1 2]\n",
            " [3 4 5]\n",
            " [6 7 8]]\n",
            "[[6 7 8]\n",
            " [3 4 5]\n",
            " [0 1 2]]\n"
          ]
        }
      ],
      "source": [
        "arr = np.arange(9).reshape(3,3)\n",
        "print(arr)\n",
        "print(np.flip(arr, 0))"
      ]
    },
    {
      "cell_type": "markdown",
      "metadata": {
        "id": "oSgPt_TdSVDy"
      },
      "source": [
        "**Problem 16**\n",
        "\n",
        "Reverse the columns of a 2D array arr."
      ]
    },
    {
      "cell_type": "code",
      "execution_count": 97,
      "metadata": {
        "id": "aWxmDyDISZcD"
      },
      "outputs": [
        {
          "name": "stdout",
          "output_type": "stream",
          "text": [
            "[[0 1 2]\n",
            " [3 4 5]\n",
            " [6 7 8]]\n",
            "[[2 1 0]\n",
            " [5 4 3]\n",
            " [8 7 6]]\n"
          ]
        }
      ],
      "source": [
        "arr = np.arange(9).reshape(3,3)\n",
        "print(arr)\n",
        "print(np.flip(arr, 1))"
      ]
    },
    {
      "cell_type": "markdown",
      "metadata": {
        "id": "d2R7iAovSf3I"
      },
      "source": [
        "**Problem 17**\n",
        "\n",
        "Create a 2D array of shape 5x3 to contain random decimal numbers between 5 and 10"
      ]
    },
    {
      "cell_type": "code",
      "execution_count": 111,
      "metadata": {
        "id": "WHHJ70XCSoQw"
      },
      "outputs": [
        {
          "name": "stdout",
          "output_type": "stream",
          "text": [
            "[[5.759 8.876 9.202]\n",
            " [8.875 8.883 9.707]\n",
            " [6.255 5.303 8.368]\n",
            " [7.08  6.12  7.54 ]\n",
            " [9.666 6.949 6.401]]\n"
          ]
        }
      ],
      "source": [
        "#import random\n",
        "#print(np.full((5,3),random.randrange(5,10)))\n",
        "#print(np.random.uniform(5,10,[5,3]))\n",
        "print((np.random.rand(5,3) * 5) + 5)"
      ]
    },
    {
      "cell_type": "markdown",
      "metadata": {
        "id": "NBCPj9PVSvvS"
      },
      "source": [
        "**Problem 18**\n",
        "\n",
        "Print or show only 3 decimal places of the numpy array rand_arr."
      ]
    },
    {
      "cell_type": "code",
      "execution_count": 116,
      "metadata": {
        "id": "w3LjmoNxS7V9"
      },
      "outputs": [
        {
          "name": "stdout",
          "output_type": "stream",
          "text": [
            "[ 1.123  2.457 55.776]\n",
            "[[9.357 8.682 9.839]\n",
            " [8.99  9.444 9.38 ]\n",
            " [9.315 5.588 6.342]\n",
            " [8.507 6.015 6.242]\n",
            " [6.23  9.031 9.211]]\n"
          ]
        }
      ],
      "source": [
        "rand_arr = np.array([1.123456, 2.456756, 55.7759994])\n",
        "np.set_printoptions(precision=3)\n",
        "print(rand_arr)\n",
        "another_arr = (np.random.rand(5,3) * 5) + 5\n",
        "print(np.round(another_arr, 3))\n"
      ]
    }
  ],
  "metadata": {
    "colab": {
      "provenance": []
    },
    "kernelspec": {
      "display_name": "Python 3",
      "name": "python3"
    },
    "language_info": {
      "codemirror_mode": {
        "name": "ipython",
        "version": 3
      },
      "file_extension": ".py",
      "mimetype": "text/x-python",
      "name": "python",
      "nbconvert_exporter": "python",
      "pygments_lexer": "ipython3",
      "version": "3.10.7"
    }
  },
  "nbformat": 4,
  "nbformat_minor": 0
}
