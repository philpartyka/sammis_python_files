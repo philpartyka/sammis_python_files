{
  "cells": [
    {
      "cell_type": "markdown",
      "metadata": {
        "id": "E5UPDwhQSD9g"
      },
      "source": [
        "# List Excercises- Basic\n",
        "\n",
        "A list is a collection of items in a particular order. Lists are mutable, which means that they can be changed in their original place in memory.\n",
        "\n",
        "Unlike arrays in other programming languages, lists can hold items of different data types. Python does NOT have arrays as a native data structure. We can use other libraries to use arrays when we need to optimize speed and mathematic calculations.\n",
        "<br></br>\n",
        "Lists in Python are noted with square brackets when used after an \"=\", with commas separating the individual elements in the list."
      ]
    },
    {
      "cell_type": "code",
      "execution_count": 22,
      "metadata": {
        "colab": {
          "base_uri": "https://localhost:8080/"
        },
        "id": "1qGaGWR-mV0u",
        "outputId": "186b6318-5288-403c-fc40-fe92676caa1f"
      },
      "outputs": [
        {
          "name": "stdout",
          "output_type": "stream",
          "text": [
            "['apple', 'orange', 12, ['peanut', 'butter', 'jelly', 'time']]\n"
          ]
        }
      ],
      "source": [
        "new_list= ['apple', 'orange', 12, ['peanut', 'butter', 'jelly', 'time']]\n",
        "\n",
        "print(new_list)"
      ]
    },
    {
      "cell_type": "markdown",
      "metadata": {
        "id": "jKjDKFSzJI15"
      },
      "source": [
        "**Indexing & Slicing**\n",
        "\n",
        "We can access indivdual elements of a list is the same as accessing them from a string, by using their index."
      ]
    },
    {
      "cell_type": "code",
      "execution_count": 24,
      "metadata": {
        "colab": {
          "base_uri": "https://localhost:8080/"
        },
        "id": "ctfeYYp8JrEZ",
        "outputId": "355fb93a-6526-4f08-bdb4-b24ca10baebe"
      },
      "outputs": [
        {
          "name": "stdout",
          "output_type": "stream",
          "text": [
            "12\n",
            "['peanut', 'butter', 'jelly', 'time']\n"
          ]
        }
      ],
      "source": [
        "print(new_list[2])\n",
        "print(new_list[-1])"
      ]
    },
    {
      "cell_type": "markdown",
      "metadata": {
        "id": "RGf_mZR8J6ht"
      },
      "source": [
        "Slicing is available for lists. We use the same syntax of start:stop:step when slicing a list. We can build onto our understanding of slices by looping through just a slice of our list."
      ]
    },
    {
      "cell_type": "code",
      "execution_count": 28,
      "metadata": {
        "colab": {
          "base_uri": "https://localhost:8080/"
        },
        "id": "n1gL6EKdKDe4",
        "outputId": "6f9b50d1-a417-4224-f23e-ec49a4e1c032"
      },
      "outputs": [
        {
          "name": "stdout",
          "output_type": "stream",
          "text": [
            "['apple', 'orange', 12]\n",
            "apple\n",
            "orange\n",
            "12\n"
          ]
        }
      ],
      "source": [
        "print(new_list[0:3])\n",
        "\n",
        "for item in new_list[0:3]:\n",
        "  print(item)"
      ]
    },
    {
      "cell_type": "markdown",
      "metadata": {
        "id": "wXIZoFqzwqg8"
      },
      "source": [
        "The syntax for modifying elements to a list is similar to accessing elements in a list through indexing"
      ]
    },
    {
      "cell_type": "code",
      "execution_count": 3,
      "metadata": {
        "colab": {
          "base_uri": "https://localhost:8080/"
        },
        "id": "r2JhyA3hw2po",
        "outputId": "746b8324-03ca-42dd-d737-a8a2547e6efd"
      },
      "outputs": [
        {
          "name": "stdout",
          "output_type": "stream",
          "text": [
            "['banana', 'orange', 12, ['peanut', 'butter', 'jelly', 'time']]\n"
          ]
        }
      ],
      "source": [
        "new_list[0]= 'banana'\n",
        "print(new_list)"
      ]
    },
    {
      "cell_type": "markdown",
      "metadata": {
        "id": "Hgc8OqKkxkdb"
      },
      "source": [
        "**Adding Elements to a List**\n",
        "\n",
        "There are several ways to add new elements to a list.\n",
        "\n",
        "The simplest way to add a new element to a list is to use the append() method. This method adds a new element to the end of a list. \n",
        "<br></br>\n",
        "append() makes it easy to build lists dynamically, especially when appending in a for loop. "
      ]
    },
    {
      "cell_type": "code",
      "execution_count": 5,
      "metadata": {
        "colab": {
          "base_uri": "https://localhost:8080/"
        },
        "id": "WVYOM8uRxzW6",
        "outputId": "8fc40d07-6b61-48a1-bf95-4ef75d475880"
      },
      "outputs": [
        {
          "name": "stdout",
          "output_type": "stream",
          "text": [
            "['banana', 'orange', 12, ['peanut', 'butter', 'jelly', 'time'], 23, 23]\n",
            "[0, 1, 2, 3, 4, 5, 6, 7, 8, 9]\n"
          ]
        }
      ],
      "source": [
        "new_list.append(23)\n",
        "print(new_list)\n",
        "\n",
        "list1= []\n",
        "\n",
        "for i in range(10):\n",
        "  list1.append(i)\n",
        "\n",
        "print(list1)"
      ]
    },
    {
      "cell_type": "markdown",
      "metadata": {
        "id": "JUUwPTN6zWdv"
      },
      "source": [
        "You can also add a new element at any position in a list by using the insert() method.\n",
        "\n",
        "We can do this by specifying the index of the new element and its value. The insert() method shifts all previous values one position to the right."
      ]
    },
    {
      "cell_type": "code",
      "execution_count": 6,
      "metadata": {
        "colab": {
          "base_uri": "https://localhost:8080/"
        },
        "id": "pyBwGTWw0C6X",
        "outputId": "146f0333-c52b-4be4-dbf3-99fee07b2f89"
      },
      "outputs": [
        {
          "name": "stdout",
          "output_type": "stream",
          "text": [
            "['grape', 'banana', 'orange', 12, ['peanut', 'butter', 'jelly', 'time'], 23, 23]\n"
          ]
        }
      ],
      "source": [
        "new_list.insert(0, 'grape')\n",
        "\n",
        "print(new_list)"
      ]
    },
    {
      "cell_type": "markdown",
      "metadata": {
        "id": "OGy4PmKQ0U9d"
      },
      "source": [
        "**Removing Elements from a List**\n",
        "\n",
        "We can remove a(n) element(s) from a list either by either the position or the value.\n",
        "<br></br>\n",
        "\n",
        "If we know the position of the element we want to remove from a list we can use the del statement. One key thing to note, the value is no longer able to be accessed using this statement."
      ]
    },
    {
      "cell_type": "code",
      "execution_count": 8,
      "metadata": {
        "colab": {
          "base_uri": "https://localhost:8080/"
        },
        "id": "sAIDwaNQ1I2h",
        "outputId": "445331a7-eb26-474f-8d01-467ca1f80247"
      },
      "outputs": [
        {
          "name": "stdout",
          "output_type": "stream",
          "text": [
            "['grape', 'banana', ['peanut', 'butter', 'jelly', 'time'], 23]\n"
          ]
        }
      ],
      "source": [
        "del new_list[2]\n",
        "del new_list[-1]\n",
        "print(new_list)"
      ]
    },
    {
      "cell_type": "markdown",
      "metadata": {
        "id": "Yb8dPexq18UN"
      },
      "source": [
        "If we want to use the value of the item after it has been removed from the list, we can use the pop() method. This method removes the last item in the list by default. Optionally, we can pass the index that we want to pop as an argument to the method to return its value."
      ]
    },
    {
      "cell_type": "code",
      "execution_count": 1,
      "metadata": {
        "colab": {
          "base_uri": "https://localhost:8080/"
        },
        "id": "Uja8bXyn2RU-",
        "outputId": "d9b69ba0-794e-47e7-d583-fea281b8b85a"
      },
      "outputs": [
        {
          "name": "stdout",
          "output_type": "stream",
          "text": [
            "hotdog\n",
            "fries\n",
            "['burger', 'pizza']\n"
          ]
        }
      ],
      "source": [
        "food= ['burger', 'fries', 'pizza', 'hotdog']\n",
        "food_item= food.pop()\n",
        "food_item2= food.pop(1)\n",
        "\n",
        "print(food_item)\n",
        "print(food_item2)\n",
        "print(food)"
      ]
    },
    {
      "cell_type": "markdown",
      "metadata": {
        "id": "FZqRJQz25PYX"
      },
      "source": [
        "We can also remove an item from a list by value using the remove() method. "
      ]
    },
    {
      "cell_type": "code",
      "execution_count": 12,
      "metadata": {
        "colab": {
          "base_uri": "https://localhost:8080/"
        },
        "id": "RYe1QHLr5ygQ",
        "outputId": "7ed409d8-45f3-434b-eefd-5289b4ec338b"
      },
      "outputs": [
        {
          "name": "stdout",
          "output_type": "stream",
          "text": [
            "['planes', 'boats']\n",
            "trains\n"
          ]
        }
      ],
      "source": [
        "transportation= ['planes', 'trains', 'automobiles', 'boats']\n",
        "\n",
        "transportation.remove('automobiles')\n",
        "item_remove= 'trains'\n",
        "transportation.remove(item_remove)\n",
        "\n",
        "print(transportation)\n",
        "print(item_remove)"
      ]
    },
    {
      "cell_type": "markdown",
      "metadata": {
        "id": "jdHQ9Kbu_zxp"
      },
      "source": [
        "**Organizing Lists**\n",
        "\n",
        "There are many times that we do not have control the order in which the elements of a list are created, but we want the list to be ordered in a particular way. There are methods in the List Class that can help us with this.\n",
        "\n",
        "<br></br>\n",
        "\n",
        "The sort() method changes the order of a list permenately in alphabetical order. There is not an \"undo\" method to get our list back in its original state."
      ]
    },
    {
      "cell_type": "code",
      "execution_count": 15,
      "metadata": {
        "colab": {
          "base_uri": "https://localhost:8080/"
        },
        "id": "H5U70B6lB2B0",
        "outputId": "d968ce21-3ca2-4146-acfb-fac4e6466da8"
      },
      "outputs": [
        {
          "name": "stdout",
          "output_type": "stream",
          "text": [
            "['flute', 'guitar', 'piano', 'trumpet']\n"
          ]
        }
      ],
      "source": [
        "instruments= ['piano', 'flute', 'guitar', 'trumpet']\n",
        "\n",
        "instruments.sort()\n",
        "\n",
        "print(instruments)"
      ]
    },
    {
      "cell_type": "markdown",
      "metadata": {
        "id": "mP_a0Gh8CWuO"
      },
      "source": [
        "We can also use the sort() method to have our list in reverse alphabetical order by passing the arguement reverse=true"
      ]
    },
    {
      "cell_type": "code",
      "execution_count": 16,
      "metadata": {
        "colab": {
          "base_uri": "https://localhost:8080/"
        },
        "id": "0sZGgAJZCles",
        "outputId": "9f3d91ed-3549-4cc2-b86a-186e849be833"
      },
      "outputs": [
        {
          "name": "stdout",
          "output_type": "stream",
          "text": [
            "['trumpet', 'piano', 'guitar', 'flute']\n"
          ]
        }
      ],
      "source": [
        "instruments.sort(reverse=True)\n",
        "\n",
        "print(instruments)"
      ]
    },
    {
      "cell_type": "markdown",
      "metadata": {
        "id": "yX4DbXXJCxWd"
      },
      "source": [
        "How does this change if all of our values are not strings or not all in the same case?"
      ]
    },
    {
      "cell_type": "code",
      "execution_count": 2,
      "metadata": {
        "id": "JxHlCVsbEyn1"
      },
      "outputs": [
        {
          "name": "stdout",
          "output_type": "stream",
          "text": [
            "['Guitar', 'Piano', 'flute', 'guitar', 'trumpet']\n"
          ]
        },
        {
          "ename": "TypeError",
          "evalue": "'<' not supported between instances of 'int' and 'str'",
          "output_type": "error",
          "traceback": [
            "\u001b[1;31m---------------------------------------------------------------------------\u001b[0m",
            "\u001b[1;31mTypeError\u001b[0m                                 Traceback (most recent call last)",
            "Cell \u001b[1;32mIn[2], line 7\u001b[0m\n\u001b[0;32m      4\u001b[0m instruments\u001b[39m.\u001b[39msort()\n\u001b[0;32m      5\u001b[0m \u001b[39mprint\u001b[39m(instruments)\n\u001b[1;32m----> 7\u001b[0m mixed_list\u001b[39m.\u001b[39;49msort()\n\u001b[0;32m      8\u001b[0m \u001b[39mprint\u001b[39m(mixed_list)\n",
            "\u001b[1;31mTypeError\u001b[0m: '<' not supported between instances of 'int' and 'str'"
          ]
        }
      ],
      "source": [
        "instruments= [\"Piano\", 'flute', 'guitar', 'Guitar', 'trumpet']\n",
        "mixed_list= ['piano', 1, 'trumpet', 5]\n",
        "\n",
        "instruments.sort()\n",
        "print(instruments)\n",
        "\n",
        "mixed_list.sort()\n",
        "print(mixed_list)"
      ]
    },
    {
      "cell_type": "markdown",
      "metadata": {
        "id": "l_U24q4UF3H5"
      },
      "source": [
        "If we only want to sort a list temporarily we can use the sorted function. The sorted function allows us to display the list in alphabetical order, but the original list is unchanged. This function also accepts the reverse=True arguement."
      ]
    },
    {
      "cell_type": "code",
      "execution_count": 19,
      "metadata": {
        "colab": {
          "base_uri": "https://localhost:8080/"
        },
        "id": "tpIN4VOXG1CE",
        "outputId": "bad45fc6-1575-4778-ac0e-72edd029e98a"
      },
      "outputs": [
        {
          "name": "stdout",
          "output_type": "stream",
          "text": [
            "['flute', 'guitar', 'piano', 'trumpet']\n"
          ]
        }
      ],
      "source": [
        "instruments= ['piano', 'flute', 'guitar', 'trumpet']\n",
        "\n",
        "print(sorted(instruments))"
      ]
    },
    {
      "cell_type": "markdown",
      "metadata": {
        "id": "pX96XF2eH28l"
      },
      "source": [
        "If we want an easy way to reverse the order of the original list we can use the reverse() method. You cannot undo this change, but you can just REVERSE! REVERSE! aka call the reverse method again to change it back the original order."
      ]
    },
    {
      "cell_type": "code",
      "execution_count": 7,
      "metadata": {
        "colab": {
          "base_uri": "https://localhost:8080/"
        },
        "id": "kQr4_URzIbeU",
        "outputId": "4333c95f-e236-4ab7-e06c-030bf5bb358e"
      },
      "outputs": [
        {
          "name": "stdout",
          "output_type": "stream",
          "text": [
            "['table', 'bed', 'chair', 'couch']\n"
          ]
        }
      ],
      "source": [
        "furniture= ['couch', 'chair', 'bed', 'table']\n",
        "\n",
        "furniture.reverse()\n",
        "\n",
        "print(furniture)"
      ]
    },
    {
      "cell_type": "markdown",
      "metadata": {
        "id": "Tt0TkdzGLQNG"
      },
      "source": [
        "**Copying a List**\n",
        "\n",
        "When copying a list. We might think it is as easy as the script below."
      ]
    },
    {
      "cell_type": "code",
      "execution_count": 11,
      "metadata": {
        "colab": {
          "base_uri": "https://localhost:8080/"
        },
        "id": "nOKsyUtiLiRv",
        "outputId": "fdcb9096-ccc4-425d-e5d4-7f8f88deeeaa"
      },
      "outputs": [
        {
          "name": "stdout",
          "output_type": "stream",
          "text": [
            "['table', 'bed', 'chair', 'couch', 'armoire']\n"
          ]
        }
      ],
      "source": [
        "furniture2= furniture\n",
        "\n",
        "print(furniture2)"
      ]
    },
    {
      "cell_type": "markdown",
      "metadata": {
        "id": "umRdHjUhLr-b"
      },
      "source": [
        "However if we start to manipulate these two variables we will see that is not the case."
      ]
    },
    {
      "cell_type": "code",
      "execution_count": 13,
      "metadata": {
        "colab": {
          "base_uri": "https://localhost:8080/"
        },
        "id": "NTfz42voMACv",
        "outputId": "8c63a9d4-0d44-42fd-a31b-c929f34414a0"
      },
      "outputs": [
        {
          "name": "stdout",
          "output_type": "stream",
          "text": [
            "['table', 'bed', 'chair', 'couch', 'armoire', 'armoire', 'armoire']\n",
            "['table', 'bed', 'chair', 'couch', 'armoire', 'armoire', 'armoire']\n"
          ]
        }
      ],
      "source": [
        "furniture2.append(\"armoire\")\n",
        "\n",
        "print(furniture2)\n",
        "print(furniture)"
      ]
    },
    {
      "cell_type": "markdown",
      "metadata": {
        "id": "oysYZcUCMSKb"
      },
      "source": [
        "Armoire got added to both variables? Not quite. By setting furniture2 = furniture we actually created another pointer to the same place in memory. What we do under one variable name impacts the other. \n",
        "\n",
        "Instead, we can create a slice of the full list and assign that to a new variable."
      ]
    },
    {
      "cell_type": "code",
      "execution_count": 31,
      "metadata": {
        "colab": {
          "base_uri": "https://localhost:8080/"
        },
        "id": "Vi4LdYBMMtWj",
        "outputId": "635ccf2b-d377-4801-f2fa-66fce3625894"
      },
      "outputs": [
        {
          "name": "stdout",
          "output_type": "stream",
          "text": [
            "['planes', 'trains', 'automobiles', 'boats', 'bicycle']\n",
            "['planes', 'trains', 'automobiles', 'boats']\n"
          ]
        }
      ],
      "source": [
        "transportation= ['planes', 'trains', 'automobiles', 'boats']\n",
        "\n",
        "new_transportation= transportation[:]\n",
        "new_transportation.append('bicycle')\n",
        "\n",
        "print(new_transportation)\n",
        "print(transportation)"
      ]
    }
  ],
  "metadata": {
    "colab": {
      "provenance": []
    },
    "kernelspec": {
      "display_name": "Python 3",
      "name": "python3"
    },
    "language_info": {
      "codemirror_mode": {
        "name": "ipython",
        "version": 3
      },
      "file_extension": ".py",
      "mimetype": "text/x-python",
      "name": "python",
      "nbconvert_exporter": "python",
      "pygments_lexer": "ipython3",
      "version": "3.10.7"
    }
  },
  "nbformat": 4,
  "nbformat_minor": 0
}
